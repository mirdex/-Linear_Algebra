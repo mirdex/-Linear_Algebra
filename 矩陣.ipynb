{
 "cells": [
  {
   "cell_type": "markdown",
   "metadata": {
    "slideshow": {
     "slide_type": "slide"
    }
   },
   "source": [
    "# 矩陣\n",
    "\n",
    "## `Da-Wei Chiang`"
   ]
  },
  {
   "cell_type": "markdown",
   "metadata": {
    "slideshow": {
     "slide_type": "slide"
    }
   },
   "source": [
    "## `Outline`\n",
    "\n",
    "- 何謂矩陣\n",
    "- 矩陣的運算\n",
    "- 特殊的矩陣"
   ]
  },
  {
   "cell_type": "markdown",
   "metadata": {
    "slideshow": {
     "slide_type": "slide"
    }
   },
   "source": [
    "## 何謂矩陣（1）\n",
    "\n",
    "- 矩陣的長相如下，將數字排成 $m$ 列、$n$ 行再加上括弧\n",
    "$\\left(\n",
    "\\begin{array}{ccc}\n",
    "a_{11} & a_{12} & ... & a_{1n} \\\\\n",
    "a_{21} & a_{22} & ... & a_{2n} \\\\\n",
    "...  & ... & ... & ... \\\\\n",
    "a_{m1} & a_{m2} & ... & a_{mn} \\\\\n",
    "\\end{array}\n",
    "\\right)$\n",
    "- 由$m$列、$n$行所構成的矩陣稱為「$ m \\times n$ 矩陣」或「$m$ 列 $n$ 行的矩陣」\n",
    "- 矩陣中括號內的值，我們稱為元素。元素$(2,1)$表示第2列第1行的值\n",
    "- 當行數與列數相等時，則稱該矩陣為「$n$ 次方陣」"
   ]
  },
  {
   "cell_type": "markdown",
   "metadata": {
    "slideshow": {
     "slide_type": "subslide"
    }
   },
   "source": [
    "## 何謂矩陣（2）\n",
    "\n",
    "- 聯立方程式可以使用矩陣表示\n",
    "![何謂矩陣-2](https://mirdex.github.io/Linear_Algebra_Simple/何謂矩陣-2.JPG)"
   ]
  },
  {
   "cell_type": "markdown",
   "metadata": {
    "slideshow": {
     "slide_type": "slide"
    }
   },
   "source": [
    "## 矩陣的運算（1）\n",
    "\n",
    "- 矩陣的運算有以下幾種\n",
    "    - 和\n",
    "    - 差\n",
    "    - 純量倍數\n",
    "    - 積"
   ]
  },
  {
   "cell_type": "markdown",
   "metadata": {
    "slideshow": {
     "slide_type": "subslide"
    }
   },
   "source": [
    "## 矩陣的運算（2）\n",
    "\n",
    "- 和的運算，假定有兩個$3 \\times 2$ 矩陣，和運算如下\n",
    "![矩陣的運算-2](https://mirdex.github.io/Linear_Algebra_Simple/矩陣的運算-2.JPG)"
   ]
  },
  {
   "cell_type": "markdown",
   "metadata": {
    "slideshow": {
     "slide_type": "subslide"
    }
   },
   "source": [
    "## 矩陣的運算（3）\n",
    "\n",
    "- 差的運算，假定有兩個$3 \\times 2$ 矩陣，差運算如下\n",
    "![矩陣的運算-3](https://mirdex.github.io/Linear_Algebra_Simple/矩陣的運算-3.JPG)"
   ]
  },
  {
   "cell_type": "markdown",
   "metadata": {
    "slideshow": {
     "slide_type": "subslide"
    }
   },
   "source": [
    "## 矩陣的運算（4）\n",
    "- 純量倍數運算，假定有一個$3 \\times 2$ 矩陣乘以十倍，運算如下\n",
    "![矩陣的運算-4](https://mirdex.github.io/Linear_Algebra_Simple/矩陣的運算-4.JPG)"
   ]
  },
  {
   "cell_type": "markdown",
   "metadata": {
    "slideshow": {
     "slide_type": "subslide"
    }
   },
   "source": [
    "## 矩陣的運算（5）\n",
    "- 積的運算較前面幾項困難，需用到聯立方程式轉換矩陣的概念\n",
    "![矩陣的運算-5-1](https://mirdex.github.io/Linear_Algebra_Simple/矩陣的運算-5-1.JPG)\n",
    "- 須注意，並不是所有的矩陣都能做積的運算。只有在左邊矩陣的行數與右邊矩陣的列數相等時，才有辦法矩陣的積，即$m\\times n$的矩陣與$n \\times p$的矩陣的積會變成$m \\times p$的矩陣。\n",
    "![矩陣的運算-5-2](https://mirdex.github.io/Linear_Algebra_Simple/矩陣的運算-5-2.JPG)"
   ]
  },
  {
   "cell_type": "markdown",
   "metadata": {
    "slideshow": {
     "slide_type": "slide"
    }
   },
   "source": [
    "## 特殊的矩陣（1）\n",
    "\n",
    "- 特殊的矩陣有以下幾種\n",
    "    - 零矩陣\n",
    "    - 轉置矩陣\n",
    "    - 對稱矩陣\n",
    "    - 上三角與下三角矩陣\n",
    "    - 對角矩陣\n",
    "    - 單位矩陣\n",
    "    - 反矩陣(將額外有投影片作介紹)"
   ]
  },
  {
   "cell_type": "markdown",
   "metadata": {
    "slideshow": {
     "slide_type": "subslide"
    }
   },
   "source": [
    "## 特殊的矩陣 - 零矩陣（2）\n",
    "\n",
    "- 零矩陣也就是所有元素皆為零的矩陣\n",
    "![特殊矩陣-2](https://mirdex.github.io/Linear_Algebra_Simple/特殊矩陣-2.JPG)"
   ]
  },
  {
   "cell_type": "markdown",
   "metadata": {
    "slideshow": {
     "slide_type": "subslide"
    }
   },
   "source": [
    "## 特殊的矩陣 - 轉置矩陣（3）\n",
    "- 轉至矩陣，表達方式為在要轉置的矩陣右上角寫下T，範例如下\n",
    "![特殊矩陣-3](https://mirdex.github.io/Linear_Algebra_Simple/特殊矩陣-3.JPG)"
   ]
  },
  {
   "cell_type": "markdown",
   "metadata": {
    "slideshow": {
     "slide_type": "subslide"
    }
   },
   "source": [
    "## 特殊的矩陣 - 對稱矩陣（4）\n",
    "- 對稱矩陣是指，以對角線為界，右上與左下對稱的$n$次方陣\n",
    "![特殊矩陣-4](https://mirdex.github.io/Linear_Algebra_Simple/特殊矩陣-4.JPG)"
   ]
  },
  {
   "cell_type": "markdown",
   "metadata": {
    "slideshow": {
     "slide_type": "subslide"
    }
   },
   "source": [
    "## 特殊的矩陣 - 上三角與下三角矩陣（5）\n",
    "- 左邊為上三角矩陣、右邊為下三角矩陣\n",
    "![特殊矩陣-5](https://mirdex.github.io/Linear_Algebra_Simple/特殊矩陣-5.JPG)"
   ]
  },
  {
   "cell_type": "markdown",
   "metadata": {
    "slideshow": {
     "slide_type": "subslide"
    }
   },
   "source": [
    "## 特殊的矩陣 - 對角矩陣（6）\n",
    "\n",
    "- 對角矩陣是指，除了對角以外的所有元素皆為0的$n$次方陣\n",
    "![特殊矩陣-6-1](https://mirdex.github.io/Linear_Algebra_Simple/特殊矩陣-6-1.JPG)\n",
    "- 對角矩陣自己的乘積會等於對角元素上的$n$次方\n",
    "![特殊矩陣-6-2](https://mirdex.github.io/Linear_Algebra_Simple/特殊矩陣-6-2.JPG)"
   ]
  },
  {
   "cell_type": "markdown",
   "metadata": {
    "slideshow": {
     "slide_type": "subslide"
    }
   },
   "source": [
    "## 特殊的矩陣 - 單位矩陣（7）\n",
    "- 單位矩陣是指對角元素都是1其他都是0的$n$次方陣\n",
    "![特殊矩陣-7-1](https://mirdex.github.io/Linear_Algebra_Simple/特殊矩陣-7-1.JPG)\n",
    "- 單位矩陣的特性是指，任何矩陣乘上單位元素都等於自己\n",
    "![特殊矩陣-7-2](https://mirdex.github.io/Linear_Algebra_Simple/特殊矩陣-7-2.JPG)"
   ]
  }
 ],
 "metadata": {
  "celltoolbar": "Slideshow",
  "kernelspec": {
   "display_name": "Python 3",
   "language": "python",
   "name": "python3"
  },
  "language_info": {
   "codemirror_mode": {
    "name": "ipython",
    "version": 3
   },
   "file_extension": ".py",
   "mimetype": "text/x-python",
   "name": "python",
   "nbconvert_exporter": "python",
   "pygments_lexer": "ipython3",
   "version": "3.6.1"
  }
 },
 "nbformat": 4,
 "nbformat_minor": 2
}
