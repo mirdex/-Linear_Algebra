{
 "cells": [
  {
   "cell_type": "markdown",
   "metadata": {
    "slideshow": {
     "slide_type": "slide"
    }
   },
   "source": [
    "## 關於線性代數\n",
    "\n",
    "## `Da-Wei Chiang`"
   ]
  },
  {
   "cell_type": "markdown",
   "metadata": {
    "slideshow": {
     "slide_type": "slide"
    }
   },
   "source": [
    "## 為什麼要學線性代數`（Linear Algebra）`\n",
    "\n",
    "- 線性代數是各大數學應用領域的基礎\n",
    "- 學得當下可能會覺得沒意義，但未來遇到時就會深刻體會線性代數的功用\n",
    "- 資料科學領域中的「**機器學習**」，就是一門多方面應用線性代數的學問"
   ]
  },
  {
   "cell_type": "markdown",
   "metadata": {
    "slideshow": {
     "slide_type": "slide"
    }
   },
   "source": [
    "## 何謂線性代數?\n",
    "\n",
    "- 線性代數就定義來說是一門「將n為向量空間轉換至m為向量空間的學問」\n",
    "- 也因為是在一個虛擬的向量空間中進行轉換，因此線性代數的學習過內容較為抽象、較難學習"
   ]
  },
  {
   "cell_type": "markdown",
   "metadata": {
    "slideshow": {
     "slide_type": "slide"
    }
   },
   "source": [
    "## 線性代數精簡版\n",
    "\n",
    "- 這份筆記是為了要快速了解線性代數的內容而作的重點整理。因此在內容上只會撰寫重點、較實際的應用，並不會對於推導細節與定義做進一步的研究\n",
    "- 「線性代數精簡版」包含以下內容\n",
    "    - 線性代數前的預備知識\n",
    "    - 矩陣\n",
    "    - 向量\n",
    "    - 線性映射\n",
    "    - 固有值與固有向量"
   ]
  },
  {
   "cell_type": "markdown",
   "metadata": {
    "slideshow": {
     "slide_type": "slide"
    }
   },
   "source": [
    "## 關於作者\n",
    "\n",
    "- [蔣達緯`(Da-Wei Chiang)`](https://www.facebook.com/djaing1)\n",
    "- [`Data Science Note`](https://mirdex.github.io/IT-Notes/)\n",
    "- <TS00187616@gmail.com>"
   ]
  }
 ],
 "metadata": {
  "celltoolbar": "Slideshow",
  "kernelspec": {
   "display_name": "Python 3",
   "language": "python",
   "name": "python3"
  },
  "language_info": {
   "codemirror_mode": {
    "name": "ipython",
    "version": 3
   },
   "file_extension": ".py",
   "mimetype": "text/x-python",
   "name": "python",
   "nbconvert_exporter": "python",
   "pygments_lexer": "ipython3",
   "version": "3.6.1"
  }
 },
 "nbformat": 4,
 "nbformat_minor": 2
}
