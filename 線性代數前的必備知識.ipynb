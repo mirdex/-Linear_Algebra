{
 "cells": [
  {
   "cell_type": "markdown",
   "metadata": {
    "slideshow": {
     "slide_type": "slide"
    }
   },
   "source": [
    "# 線性代數前的必備知識\n",
    "\n",
    "## `Da-Wei Chiang`"
   ]
  },
  {
   "cell_type": "markdown",
   "metadata": {
    "slideshow": {
     "slide_type": "slide"
    }
   },
   "source": [
    "## `Outline`\n",
    "\n",
    "- 數的分類\n",
    "- 充分必要條件\n",
    "- 集合\n",
    "- 映射"
   ]
  },
  {
   "cell_type": "markdown",
   "metadata": {
    "slideshow": {
     "slide_type": "slide"
    }
   },
   "source": [
    "## 數的分類\n",
    "\n",
    "- 複數\n",
    "    - $a+b_i$，其中$a$、$b$是實數\n",
    "- 實數\n",
    "    - 整數\n",
    "        - 正整數\n",
    "        - 負整數\n",
    "        - 0\n",
    "    - 有理數\n",
    "        - 可以用整數比表示的數，如：有限小數 0.3(可表示為$3\\over10$)、循環小數 0.3333....(可表示為$0.\\overline{3}$)\n",
    "    - 無理數\n",
    "        - 不循環無限小數，如：$\\pi = 3.1415926535......$\n",
    "- 純虛數\n",
    "    - 像複數中$b_i$這種形式的數，其中b是實數\n",
    "    \n",
    "    \n",
    "    \n",
    "**補充**：$i = \\sqrt{-1}$"
   ]
  },
  {
   "cell_type": "markdown",
   "metadata": {
    "slideshow": {
     "slide_type": "slide"
    }
   },
   "source": [
    "## 充分必要條件\n",
    "\n",
    "- 命題：\n",
    "    - 可以以客觀的方式判斷出真假的問題，稱為命題\n",
    "        - 例：`Da-Wei Chiang`是男生 .......這是命題\n",
    "        - 例：現任總統是好總統................這不是命題(主觀認知，有人認為是、有人認為不是)\n",
    "- 充分必要條件\n",
    "    - 若P是人、Q是動物，則\n",
    "        - 看到P(人)等於看到Q(動物)........命題正確\n",
    "        - 看到Q(動物)等於看到P(人)........命題錯誤(因為不一定)\n",
    "    - 上例就充分必要條件上來說為\n",
    "        - Q(動物)是P(人)的必備條件\n",
    "        - P(人)是Q(動物)的充分條件\n",
    "    - 數學的定義式\n",
    "        - 若P則Q成立....數學是寫為$P\\Longrightarrow Q$\n",
    "        - 若Q則P成立....數學是寫為$Q\\Longrightarrow P$\n",
    "        - 若P則Q成立且Q則P成立....數學是寫為$P\\Longleftrightarrow Q$"
   ]
  },
  {
   "cell_type": "markdown",
   "metadata": {
    "slideshow": {
     "slide_type": "slide"
    }
   },
   "source": [
    "## 集合\n",
    "\n",
    "- 集合是由元素所構成，如：台灣是由台北、台中、高雄...等元素構成；數學式寫為台灣 = {台北、台中、高雄...等}\n",
    "- 當x為集合X的元素時，數學式表示為$x\\in X$；如：台北$\\in$台灣\n",
    "- 當集合X的所有元素也屬於集合Y時，數學式表示為$X\\subset Y$，如：$台灣\\subset地球$；這種情況我們又稱X是Y的子集合"
   ]
  },
  {
   "cell_type": "markdown",
   "metadata": {
    "slideshow": {
     "slide_type": "slide"
    }
   },
   "source": [
    "## 映射（這方面較抽象，建議試著畫圖學習。請理解而非背誦）\n",
    "\n",
    "- 映射的定義為\n",
    "    - 集合X的元素對應到集合Y的元素的「規則」，我們稱為從集合X到集合Y的映射；$規則(映射):X\\longrightarrow Y$。數學式表示為　$f:X\\longrightarrow Y$，其中　$f$只是個代稱，可隨便改為$g、h..$等等\n",
    "\n",
    "- 像\n",
    "    - 假定 $x_i$ 為集合 $X$ 的元素，透過映射 $f$ 對應到集合 $Y$ 的某的元素 $f(x_i)$，則稱集合Y的元素「$f(x_i)$ 為 $f$ 映射下 $x_i$ 的像」\n",
    "    - 例 : $f(x) = 4x + 8$，這個函數的意思是「集合 $X$ 上的每個元素 $x_i$ 都會經由 $4x+8$的規則 映射到 集合Y 上的元素」。因此當 $x = 2$時，表示元素2經由 $4x+8$ 的規則映射到 集合 $Y$ 上的像是 $f(2) = 16$"
   ]
  },
  {
   "cell_type": "markdown",
   "metadata": {
    "slideshow": {
     "slide_type": "subslide"
    }
   },
   "source": [
    "## 映射（2）\n",
    "\n",
    "- 值域與定義域\n",
    "    - 值域\n",
    "        - 在 $f$ 映射下的像所形成的集合，我們稱為映射 $f$ 的值域（也就是集合Y的子集(因為集合 $X$ 不一定映射到集合$Y$ 全部的像)　）\n",
    "    - 定義域\n",
    "        - 為了因應映射 $f$ 的值域，數學上又將對應於值域上的集合X稱為定義域"
   ]
  },
  {
   "cell_type": "markdown",
   "metadata": {
    "slideshow": {
     "slide_type": "subslide"
    }
   },
   "source": [
    "## 映射（3）\n",
    "\n",
    "- 蓋射\n",
    "    - 當集合 $X$ 由 $f$ 映射至集合 $Y$ 的「全部」像，這種映射方式稱為蓋射\n",
    "- 嵌射\n",
    "    - 當集合 $X$ 由 $f$ 映射至集合 $Y$ 的像是一對一的 (一個X元素映射到Y的像都不重複)，這種映射方式稱為嵌射\n",
    "- 對射\n",
    "    - 當映射的方式符合蓋射、嵌射時，這種映射方式稱為對射"
   ]
  },
  {
   "cell_type": "markdown",
   "metadata": {
    "slideshow": {
     "slide_type": "subslide"
    }
   },
   "source": [
    "## 映射（4）\n",
    "\n",
    "- 反映射\n",
    "    - 當集合 $X$ 的元素 $x_i$ 透過 $f$ 映射至集合 $Y$ 元素的像 $y_i$ 且 當集合 $Y$ 的元素 $y_i$ 透過 $f$ 映射至集合 $X$ 元素的像 $x_i$ 時，這種映射方式稱為反映射。\n",
    "- 反映射的數學表達式如下\n",
    "    - $f(g(y_i)) = y_i$\n",
    "    - $g(f(x_i)) = x_i$"
   ]
  },
  {
   "cell_type": "markdown",
   "metadata": {
    "slideshow": {
     "slide_type": "subslide"
    }
   },
   "source": [
    "## 線性映射\n",
    "\n",
    "- 當映射 $f$ 滿足下面兩個條件時，則稱為線性映射\n",
    "    - $f(x_i) + f(x_j) = f(x_i+x_j) $\n",
    "    - $cf(x_i) = cf(x_i)$"
   ]
  }
 ],
 "metadata": {
  "celltoolbar": "Slideshow",
  "kernelspec": {
   "display_name": "Python 3",
   "language": "python",
   "name": "python3"
  },
  "language_info": {
   "codemirror_mode": {
    "name": "ipython",
    "version": 3
   },
   "file_extension": ".py",
   "mimetype": "text/x-python",
   "name": "python",
   "nbconvert_exporter": "python",
   "pygments_lexer": "ipython3",
   "version": "3.6.1"
  }
 },
 "nbformat": 4,
 "nbformat_minor": 2
}
